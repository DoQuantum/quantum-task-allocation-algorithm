{
  "cells": [
    {
      "cell_type": "markdown",
      "metadata": {
        "id": "b56c8rM5cN-U"
      },
      "source": [
        "#CNN4"
      ]
    },
    {
      "cell_type": "code",
      "execution_count": 5,
      "metadata": {
        "id": "-RM98MtEeTww"
      },
      "outputs": [
        {
          "name": "stderr",
          "output_type": "stream",
          "text": [
            "/opt/anaconda3/envs/myenv/lib/python3.10/site-packages/tqdm/auto.py:21: TqdmWarning: IProgress not found. Please update jupyter and ipywidgets. See https://ipywidgets.readthedocs.io/en/stable/user_install.html\n",
            "  from .autonotebook import tqdm as notebook_tqdm\n"
          ]
        }
      ],
      "source": [
        "import numpy as np\n",
        "import matplotlib.pyplot as plt\n",
        "\n",
        "from pathlib import Path\n",
        "\n",
        "import torch\n",
        "from torch.autograd import Function\n",
        "from torchvision import datasets, transforms\n",
        "import torch.optim as optim\n",
        "from torch.optim import lr_scheduler\n",
        "import torch.nn as nn\n",
        "import torch.nn.functional as F\n",
        "import kagglehub\n",
        "\n"
      ]
    },
    {
      "cell_type": "code",
      "execution_count": 6,
      "metadata": {
        "id": "_I845zHUeoXV"
      },
      "outputs": [
        {
          "name": "stdout",
          "output_type": "stream",
          "text": [
            "Downloading from https://www.kaggle.com/api/v1/datasets/download/hojjatk/mnist-dataset?dataset_version_number=1...\n"
          ]
        },
        {
          "name": "stderr",
          "output_type": "stream",
          "text": [
            "100%|██████████| 22.0M/22.0M [00:00<00:00, 25.4MB/s]"
          ]
        },
        {
          "name": "stdout",
          "output_type": "stream",
          "text": [
            "Extracting files...\n"
          ]
        },
        {
          "name": "stderr",
          "output_type": "stream",
          "text": [
            "\n",
            "100.0%\n",
            "100.0%\n",
            "100.0%\n",
            "100.0%\n"
          ]
        }
      ],
      "source": [
        "# Loading of the MNIST dataset\n",
        "path = kagglehub.dataset_download(\"hojjatk/mnist-dataset\")\n",
        "train_data = datasets.MNIST(\n",
        "    root = path,  # root: The root directory where the dataset should be stored. In this case, it is set to 'data'. If the 'data' directory doesn't exist, the dataset will be downloaded to this location.\n",
        "    train = True,\n",
        "    transform = transforms.ToTensor(),  # transform: This parameter applies transformations to the data. In this case, transforms.ToTensor() is used to convert the images to PyTorch tensors.\n",
        "    download = True,\n",
        ")\n",
        "test_data = datasets.MNIST(\n",
        "    root = path,\n",
        "    train = False,\n",
        "    transform = transforms.ToTensor()\n",
        ")"
      ]
    },
    {
      "cell_type": "code",
      "execution_count": 7,
      "metadata": {
        "id": "yFlOU3zGecUq"
      },
      "outputs": [],
      "source": [
        "#Setting of the main hyper-parameters of the model\n",
        "batch_size = 4 # The number of samples in each mini-batch used during training. Smaller batch sizes can lead to faster convergence but may introduce more noise into the training process.\n",
        "n_train = batch_size * 125    # The total size of the training dataset. It's calculated as the product of batch_size and the number of batches (125 in this case). Adjusting the training dataset size can impact the model's ability to generalize.\n",
        "n_test = batch_size * 25     # The total size of the test dataset. Similar to n_train, it's calculated as the product of batch_size and the number of test batches (25 in this case). The test dataset is used to evaluate the model's performance on unseen data.\n",
        "n_channels = 4  # The number of channels in the output of the quantum convolution layer. In your model, you have set it to 4. This parameter determines the depth of the feature maps produced by the convolutional layer.\n",
        "initial_lr =  0.005     # The initial learning rate for the stochastic gradient descent (SGD) optimizer."
      ]
    },
    {
      "cell_type": "code",
      "execution_count": 8,
      "metadata": {
        "id": "-3CmM5H-BOh5"
      },
      "outputs": [],
      "source": [
        "class Net(nn.Module):\n",
        "    def __init__(self):\n",
        "        super(Net, self).__init__()\n",
        "        # Convolutional layer 1 with 1 input channels, 4 output channels, and 4x4 kernel\n",
        "        self.conv = nn.Conv2d(1, 4, 4, stride=4)\n",
        "        self.fc = nn.Linear(4 * 7 * 7, 10)\n",
        "\n",
        "    def forward(self, x):\n",
        "        # Propagate the input through the CNN layers\n",
        "        x = self.conv(x)\n",
        "        # Flatten the output from the convolutional layer\n",
        "        x = torch.flatten(x, start_dim=1)\n",
        "        x = F.relu(self.fc(x))\n",
        "        return x\n",
        "cnn=Net()"
      ]
    },
    {
      "cell_type": "code",
      "execution_count": 9,
      "metadata": {
        "colab": {
          "base_uri": "https://localhost:8080/"
        },
        "id": "QlHwR2hdRzb2",
        "outputId": "d4510d66-8f4f-4807-f13f-30d9c0402f10"
      },
      "outputs": [
        {
          "name": "stdout",
          "output_type": "stream",
          "text": [
            "inputs.shape=torch.Size([4, 1, 28, 28])\n",
            "labels=tensor([6, 2, 6, 5])\n",
            "outputs.shape=torch.Size([4, 10])\n",
            "outputs=tensor([[0.0136, 0.0000, 0.0000, 0.0000, 0.1541, 0.0806, 0.0000, 0.0186, 0.3018,\n",
            "         0.0000],\n",
            "        [0.1908, 0.0000, 0.0000, 0.0853, 0.0992, 0.0000, 0.0000, 0.1334, 0.1714,\n",
            "         0.0741],\n",
            "        [0.0832, 0.0000, 0.0042, 0.0000, 0.1244, 0.0000, 0.0460, 0.0000, 0.0222,\n",
            "         0.0944],\n",
            "        [0.0000, 0.0000, 0.1285, 0.0000, 0.0608, 0.0864, 0.0000, 0.0000, 0.2706,\n",
            "         0.0716]], grad_fn=<ReluBackward0>)\n"
          ]
        }
      ],
      "source": [
        "dataset  = train_data\n",
        "train_size = n_train\n",
        "train_set, val_set = torch.utils.data.random_split(dataset, [train_size, len(dataset) - train_size])\n",
        "train_loader = torch.utils.data.DataLoader(train_set, batch_size=batch_size, shuffle=True)\n",
        "for data in train_loader:\n",
        "    inputs, labels = data\n",
        "    print(f\"{inputs.shape=}\")\n",
        "    print(f\"{labels=}\")\n",
        "    outputs = cnn(inputs)\n",
        "    print(f\"{outputs.shape=}\")\n",
        "    print(f\"{outputs=}\")\n",
        "    break"
      ]
    },
    {
      "cell_type": "code",
      "execution_count": 13,
      "metadata": {
        "colab": {
          "base_uri": "https://localhost:8080/"
        },
        "id": "RCxAXutdvoRg",
        "outputId": "4668e779-7c7e-4410-9b25-695de58a33b8"
      },
      "outputs": [
        {
          "name": "stdout",
          "output_type": "stream",
          "text": [
            "epoch=0, lr=[0.005], 2025-07-12 17:48:21.560920\n",
            "Training [3%]\tLoss: 2.0916\n",
            "Saving model state to models/ImgClass-Quanvolv.pth\n",
            "epoch=1, lr=[0.005], 2025-07-12 17:48:21.635545\n",
            "Training [7%]\tLoss: 1.2708\n",
            "Saving model state to models/ImgClass-Quanvolv.pth\n",
            "epoch=2, lr=[0.005], 2025-07-12 17:48:21.696070\n",
            "Training [10%]\tLoss: 1.0235\n",
            "Saving model state to models/ImgClass-Quanvolv.pth\n",
            "epoch=3, lr=[0.005], 2025-07-12 17:48:21.755321\n",
            "Training [13%]\tLoss: 0.9353\n",
            "Saving model state to models/ImgClass-Quanvolv.pth\n",
            "epoch=4, lr=[0.005], 2025-07-12 17:48:21.817065\n",
            "Training [17%]\tLoss: 0.8885\n",
            "Saving model state to models/ImgClass-Quanvolv.pth\n",
            "epoch=5, lr=[0.005], 2025-07-12 17:48:21.873780\n",
            "Training [20%]\tLoss: 0.8644\n",
            "Saving model state to models/ImgClass-Quanvolv.pth\n",
            "epoch=6, lr=[0.005], 2025-07-12 17:48:21.929229\n",
            "Training [23%]\tLoss: 0.8418\n",
            "Saving model state to models/ImgClass-Quanvolv.pth\n",
            "epoch=7, lr=[0.005], 2025-07-12 17:48:21.989628\n",
            "Training [27%]\tLoss: 0.8167\n",
            "Saving model state to models/ImgClass-Quanvolv.pth\n",
            "epoch=8, lr=[0.005], 2025-07-12 17:48:22.051908\n",
            "Training [30%]\tLoss: 0.8229\n",
            "Saving model state to models/ImgClass-Quanvolv.pth\n",
            "epoch=9, lr=[0.005], 2025-07-12 17:48:22.151631\n",
            "Training [33%]\tLoss: 0.8121\n",
            "Saving model state to models/ImgClass-Quanvolv.pth\n",
            "epoch=10, lr=[0.005], 2025-07-12 17:48:22.218310\n",
            "Training [37%]\tLoss: 0.7924\n",
            "Saving model state to models/ImgClass-Quanvolv.pth\n",
            "epoch=11, lr=[0.005], 2025-07-12 17:48:22.286122\n",
            "Training [40%]\tLoss: 0.7859\n",
            "Saving model state to models/ImgClass-Quanvolv.pth\n",
            "epoch=12, lr=[0.005], 2025-07-12 17:48:22.349115\n",
            "Training [43%]\tLoss: 0.7785\n",
            "Saving model state to models/ImgClass-Quanvolv.pth\n",
            "epoch=13, lr=[0.005], 2025-07-12 17:48:22.414180\n",
            "Training [47%]\tLoss: 0.7648\n",
            "Saving model state to models/ImgClass-Quanvolv.pth\n",
            "epoch=14, lr=[0.005], 2025-07-12 17:48:22.479450\n",
            "Training [50%]\tLoss: 0.7615\n",
            "Saving model state to models/ImgClass-Quanvolv.pth\n",
            "epoch=15, lr=[0.005], 2025-07-12 17:48:22.539027\n",
            "Training [53%]\tLoss: 0.7630\n",
            "Saving model state to models/ImgClass-Quanvolv.pth\n",
            "epoch=16, lr=[0.005], 2025-07-12 17:48:22.597371\n",
            "Training [57%]\tLoss: 0.7557\n",
            "Saving model state to models/ImgClass-Quanvolv.pth\n",
            "epoch=17, lr=[0.005], 2025-07-12 17:48:22.659773\n",
            "Training [60%]\tLoss: 0.7516\n",
            "Saving model state to models/ImgClass-Quanvolv.pth\n",
            "epoch=18, lr=[0.005], 2025-07-12 17:48:22.721008\n",
            "Training [63%]\tLoss: 0.7488\n",
            "Saving model state to models/ImgClass-Quanvolv.pth\n",
            "epoch=19, lr=[0.005], 2025-07-12 17:48:22.814360\n",
            "Training [67%]\tLoss: 0.7483\n",
            "Saving model state to models/ImgClass-Quanvolv.pth\n",
            "epoch=20, lr=[0.005], 2025-07-12 17:48:22.871997\n",
            "Training [70%]\tLoss: 0.7487\n",
            "Saving model state to models/ImgClass-Quanvolv.pth\n",
            "epoch=21, lr=[0.005], 2025-07-12 17:48:22.929191\n",
            "Training [73%]\tLoss: 0.7455\n",
            "Saving model state to models/ImgClass-Quanvolv.pth\n",
            "epoch=22, lr=[0.005], 2025-07-12 17:48:22.986035\n",
            "Training [77%]\tLoss: 0.7449\n",
            "Saving model state to models/ImgClass-Quanvolv.pth\n",
            "epoch=23, lr=[0.005], 2025-07-12 17:48:23.043640\n",
            "Training [80%]\tLoss: 0.7446\n",
            "Saving model state to models/ImgClass-Quanvolv.pth\n",
            "epoch=24, lr=[0.005], 2025-07-12 17:48:23.098775\n",
            "Training [83%]\tLoss: 0.7436\n",
            "Saving model state to models/ImgClass-Quanvolv.pth\n",
            "epoch=25, lr=[0.005], 2025-07-12 17:48:23.155919\n",
            "Training [87%]\tLoss: 0.7431\n",
            "Saving model state to models/ImgClass-Quanvolv.pth\n",
            "epoch=26, lr=[0.005], 2025-07-12 17:48:23.214013\n",
            "Training [90%]\tLoss: 0.7426\n",
            "Saving model state to models/ImgClass-Quanvolv.pth\n",
            "epoch=27, lr=[0.005], 2025-07-12 17:48:23.274137\n",
            "Training [93%]\tLoss: 0.7420\n",
            "Saving model state to models/ImgClass-Quanvolv.pth\n",
            "epoch=28, lr=[0.005], 2025-07-12 17:48:23.334523\n",
            "Training [97%]\tLoss: 0.7417\n",
            "Saving model state to models/ImgClass-Quanvolv.pth\n",
            "epoch=29, lr=[0.005], 2025-07-12 17:48:23.395507\n",
            "Training [100%]\tLoss: 0.7414\n",
            "Saving model state to models/ImgClass-Quanvolv.pth\n",
            "Finished Training\n"
          ]
        }
      ],
      "source": [
        "# Train the model\n",
        "\n",
        "import datetime\n",
        "import os\n",
        "\n",
        "dataset  = train_data\n",
        "\n",
        "# Initialize your QCNN model\n",
        "cnn = Net()\n",
        "\n",
        "# Define loss function and optimizer\n",
        "criterion = nn.CrossEntropyLoss()  # Cross-entropy loss for classification\n",
        "optimizer = optim.SGD(cnn.parameters(), lr=initial_lr, momentum=0.90)  # Stochastic Gradient Descent optimizer\n",
        "# Create a learning rate scheduler\n",
        "# Here, we use StepLR which reduces the learning rate by a factor every step_size epochs\n",
        "scheduler = lr_scheduler.StepLR(optimizer, step_size=1, gamma=1.0)\n",
        "# Split your data into training and validation sets\n",
        "train_size = n_train\n",
        "train_set, val_set = torch.utils.data.random_split(dataset, [train_size, len(dataset) - train_size])\n",
        "train_loader = torch.utils.data.DataLoader(train_set, batch_size=batch_size, shuffle=True)\n",
        "val_loader = torch.utils.data.DataLoader(val_set, batch_size=batch_size, shuffle=False)\n",
        "\n",
        "MODEL_PATH = Path(\"models\")\n",
        "MODEL_PATH.mkdir(parents=True, exist_ok=True)\n",
        "\n",
        "MODEL_NAME = \"ImgClass-Quanvolv.pth\"\n",
        "MODEL_SAVE_PATH = MODEL_PATH / MODEL_NAME\n",
        "\n",
        "RESUME_TRAINING = True\n",
        "\n",
        "# Training loop\n",
        "num_epochs = 30\n",
        "loss_list = []\n",
        "cnn.train()\n",
        "\n",
        "if RESUME_TRAINING is False:\n",
        "    print(f\"Restore model state from {MODEL_SAVE_PATH}\")\n",
        "    if os.path.exists(MODEL_SAVE_PATH):\n",
        "        model_dict = torch.load(MODEL_SAVE_PATH)\n",
        "        initial_epoch = model_dict['epoch'] + 1\n",
        "        cnn.load_state_dict(model_dict['model_state_dict'])\n",
        "        optimizer.load_state_dict(model_dict['optimizer_state_dict'])\n",
        "        loss_list = model_dict['loss'].copy()\n",
        "    else:\n",
        "        print(f\"No saved model state found. Training from scratch.\")\n",
        "        initial_epoch = 0\n",
        "        loss_list = []\n",
        "else:\n",
        "    initial_epoch = 0\n",
        "    loss_list = []\n",
        "\n",
        "for epoch in range(num_epochs):\n",
        "    ct = datetime.datetime.now()\n",
        "    # Decay Learning Rate\n",
        "    optimizer.step()\n",
        "    scheduler.step()\n",
        "    lr = scheduler.get_last_lr()\n",
        "    print(f\"{epoch=}, {lr=}, {ct}\")\n",
        "    running_loss = []\n",
        "    for i, data in enumerate(train_loader, 0):\n",
        "        inputs, labels = data\n",
        "        optimizer.zero_grad()  # Zero the parameter gradients to avoid accumulation\n",
        "        outputs = cnn(inputs)  # Forward pass\n",
        "        loss = criterion(outputs, labels)  # Compute the loss\n",
        "        loss.backward()  # Backpropagation\n",
        "        running_loss.append(loss.item())\n",
        "        optimizer.step()  # Update the model parameters\n",
        "    loss_list.append(sum(running_loss) / len(running_loss))\n",
        "    print('Training [{:.0f}%]\\tLoss: {:.4f}'.format(100. * (epoch + 1) / num_epochs, loss_list[-1]))\n",
        "    torch.save({\n",
        "        'epoch': epoch,\n",
        "        'model_state_dict': cnn.state_dict(),\n",
        "        'optimizer_state_dict': optimizer.state_dict(),\n",
        "        'loss': loss_list,\n",
        "    }, MODEL_SAVE_PATH)\n",
        "    print(f\"Saving model state to {MODEL_SAVE_PATH}\")\n",
        "\n",
        "print('Finished Training')"
      ]
    },
    {
      "cell_type": "code",
      "execution_count": 159,
      "metadata": {
        "colab": {
          "base_uri": "https://localhost:8080/"
        },
        "id": "nUl3J1rhtfvQ",
        "outputId": "be827968-f89b-4514-8e5a-d9efb0532f0a"
      },
      "outputs": [
        {
          "data": {
            "text/plain": [
              "OrderedDict([('conv.weight',\n",
              "              tensor([[[[-9.2388e-01, -5.8929e-01, -6.7031e-01, -5.2077e-01],\n",
              "                        [-1.0605e+00, -1.0203e+00, -8.6686e-01, -3.9097e-01],\n",
              "                        [-1.0201e+00, -6.6626e-01, -2.3081e-01, -3.9852e-01],\n",
              "                        [-8.1234e-01, -2.5749e-01,  8.2552e-04,  2.5906e-02]]],\n",
              "              \n",
              "              \n",
              "                      [[[-1.7290e-01, -1.0526e-01,  2.5084e-02,  5.1990e-01],\n",
              "                        [ 4.0717e-02, -6.1931e-02,  2.3308e-01,  1.1402e-01],\n",
              "                        [-1.9381e-01, -2.5186e-01, -1.3225e-01, -7.5126e-01],\n",
              "                        [-5.5205e-01, -6.6428e-01, -2.5852e-01, -9.1830e-01]]],\n",
              "              \n",
              "              \n",
              "                      [[[ 1.7420e-01,  4.1984e-01,  9.8764e-01,  5.3831e-01],\n",
              "                        [-1.9157e-02, -6.4329e-02,  3.8352e-01,  5.9392e-01],\n",
              "                        [ 6.6614e-02,  1.3925e-01,  8.1434e-01,  1.3035e+00],\n",
              "                        [-4.7035e-02,  5.9577e-01,  1.0783e+00,  1.1108e+00]]],\n",
              "              \n",
              "              \n",
              "                      [[[ 8.2520e-01,  6.2562e-01,  1.9157e-01, -2.6445e-01],\n",
              "                        [ 6.4359e-01,  5.0645e-01, -1.4111e-01, -4.5830e-01],\n",
              "                        [ 2.8926e-01, -2.6936e-02, -5.6172e-01, -6.2375e-01],\n",
              "                        [-4.8164e-01, -2.0072e-01, -6.4104e-01, -8.8802e-01]]]])),\n",
              "             ('conv.bias', tensor([ 0.6154,  0.2659, -0.6529, -0.0022])),\n",
              "             ('fc.weight',\n",
              "              tensor([[-0.0908, -0.0592,  0.0221,  ..., -0.0667,  0.0262, -0.0283],\n",
              "                      [-0.0855, -0.0359, -0.0147,  ...,  0.0358,  0.0183, -0.0358],\n",
              "                      [ 0.0523,  0.0282, -0.0601,  ..., -0.1361, -0.0186, -0.0759],\n",
              "                      ...,\n",
              "                      [-0.0512,  0.0172,  0.0214,  ...,  0.0456,  0.0002, -0.0607],\n",
              "                      [-0.0275, -0.0169,  0.0243,  ..., -0.0080, -0.0436, -0.0173],\n",
              "                      [ 0.0692, -0.0282,  0.0634,  ...,  0.0649, -0.0513,  0.0403]])),\n",
              "             ('fc.bias',\n",
              "              tensor([-0.1888,  0.0599,  0.1772, -0.0362, -0.0030,  0.0218, -0.0206,  0.1077,\n",
              "                      -0.0287, -0.0747]))])"
            ]
          },
          "execution_count": 159,
          "metadata": {},
          "output_type": "execute_result"
        }
      ],
      "source": [
        "cnn.state_dict()"
      ]
    },
    {
      "cell_type": "code",
      "execution_count": 14,
      "metadata": {
        "colab": {
          "base_uri": "https://localhost:8080/"
        },
        "id": "EZCJdLCoqc10",
        "outputId": "25720c9e-cc37-484b-ccbf-fe25eba068c6"
      },
      "outputs": [
        {
          "name": "stdout",
          "output_type": "stream",
          "text": [
            "Accuracy on the validation set: 65.00%\n"
          ]
        }
      ],
      "source": [
        "#accuracy\n",
        "\n",
        "# Use a small subset of the full validation dataset\n",
        "from torch.utils.data import SubsetRandomSampler\n",
        "\n",
        "K = n_test # enter your length here\n",
        "subsample_train_indices = torch.randperm(len(val_set))[:K]\n",
        "val_loader = torch.utils.data.DataLoader(val_set, batch_size=batch_size, sampler=SubsetRandomSampler(subsample_train_indices))\n",
        "\n",
        "correct = 0\n",
        "total = 0\n",
        "# Set the model to evaluation mode\n",
        "cnn.eval()\n",
        "with torch.inference_mode():\n",
        "    for data in val_loader:\n",
        "        images, labels = data\n",
        "        outputs = cnn(images)\n",
        "        _, predicted = torch.max(outputs.data, 1)\n",
        "        total += labels.size(0)\n",
        "        correct += (predicted == labels).sum().item()\n",
        "print(f'Accuracy on the validation set: {100 * correct / total:.2f}%')"
      ]
    }
  ],
  "metadata": {
    "colab": {
      "provenance": []
    },
    "kernelspec": {
      "display_name": "myenv",
      "language": "python",
      "name": "python3"
    },
    "language_info": {
      "codemirror_mode": {
        "name": "ipython",
        "version": 3
      },
      "file_extension": ".py",
      "mimetype": "text/x-python",
      "name": "python",
      "nbconvert_exporter": "python",
      "pygments_lexer": "ipython3",
      "version": "3.10.18"
    }
  },
  "nbformat": 4,
  "nbformat_minor": 0
}
